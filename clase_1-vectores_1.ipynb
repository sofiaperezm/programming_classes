{
 "cells": [
  {
   "cell_type": "markdown",
   "metadata": {},
   "source": [
    "**Objetivo:**\n",
    "\n",
    "*   Familiarizarse con vectores. \n",
    "*   Manejo de indices e iteraciones."
   ]
  },
  {
   "cell_type": "code",
   "execution_count": 1,
   "metadata": {},
   "outputs": [],
   "source": [
    "import random\n",
    "import numpy as np"
   ]
  },
  {
   "cell_type": "markdown",
   "metadata": {},
   "source": [
    "**Ejercicio #1**\n",
    "\n",
    "1) Crea un array de 10 posiciones de números con valores pedidos por teclado. Muestra por consola el indice y el valor al que corresponde. Haz dos métodos, uno para rellenar valores y otro para mostrar."
   ]
  },
  {
   "cell_type": "code",
   "execution_count": 2,
   "metadata": {},
   "outputs": [],
   "source": [
    "array = []"
   ]
  },
  {
   "cell_type": "code",
   "execution_count": 3,
   "metadata": {},
   "outputs": [],
   "source": [
    "# funcion rellenar elementos en un array\n",
    "\n",
    "def write_array(array):\n",
    "  for i in range(0, 10):\n",
    "    value = input(\"Ingresa 1 numeros por favor \")\n",
    "    array.append(value)"
   ]
  },
  {
   "cell_type": "code",
   "execution_count": 4,
   "metadata": {},
   "outputs": [
    {
     "name": "stdout",
     "output_type": "stream",
     "text": [
      "Ingresa 1 numeros por favor 1\n",
      "Ingresa 1 numeros por favor 1\n",
      "Ingresa 1 numeros por favor 1\n",
      "Ingresa 1 numeros por favor 1\n",
      "Ingresa 1 numeros por favor 1\n",
      "Ingresa 1 numeros por favor 1\n",
      "Ingresa 1 numeros por favor 1\n",
      "Ingresa 1 numeros por favor 1\n",
      "Ingresa 1 numeros por favor 1\n",
      "Ingresa 1 numeros por favor 1\n"
     ]
    }
   ],
   "source": [
    "write_array(array)"
   ]
  },
  {
   "cell_type": "code",
   "execution_count": 5,
   "metadata": {},
   "outputs": [],
   "source": [
    "# funcion printear elementos en un array\n",
    "\n",
    "def print_array(array):\n",
    "  for indice, valor in enumerate(array):\n",
    "    print(indice, valor)"
   ]
  },
  {
   "cell_type": "code",
   "execution_count": 6,
   "metadata": {},
   "outputs": [
    {
     "name": "stdout",
     "output_type": "stream",
     "text": [
      "0 1\n",
      "1 1\n",
      "2 1\n",
      "3 1\n",
      "4 1\n",
      "5 1\n",
      "6 1\n",
      "7 1\n",
      "8 1\n",
      "9 1\n"
     ]
    }
   ],
   "source": [
    "print_array(array)"
   ]
  },
  {
   "cell_type": "markdown",
   "metadata": {},
   "source": [
    "**Ejercicio #2**\n",
    "\n",
    "2) Crea un array de números donde le indicamos por teclado el tamaño del array, rellenaremos el array con números aleatorios entre 0 y 9, al final muestra por pantalla el valor de cada posición y la suma de todos los valores."
   ]
  },
  {
   "cell_type": "code",
   "execution_count": 7,
   "metadata": {},
   "outputs": [
    {
     "name": "stdout",
     "output_type": "stream",
     "text": [
      "Indique la longitud del array 8\n"
     ]
    }
   ],
   "source": [
    "lenght = int(input(\"Indique la longitud del array \"))"
   ]
  },
  {
   "cell_type": "code",
   "execution_count": 8,
   "metadata": {},
   "outputs": [],
   "source": [
    "def write_custom_array(lenght):\n",
    "  custom_array = []\n",
    "  for i in range(lenght):\n",
    "    value = random.randint(0,9)\n",
    "    custom_array.append(value)\n",
    "  return custom_array"
   ]
  },
  {
   "cell_type": "code",
   "execution_count": 9,
   "metadata": {},
   "outputs": [
    {
     "name": "stdout",
     "output_type": "stream",
     "text": [
      "[4, 3, 5, 4, 1, 1, 7, 6]\n"
     ]
    }
   ],
   "source": [
    "x = write_custom_array(lenght)\n",
    "print(x)"
   ]
  },
  {
   "cell_type": "code",
   "execution_count": 10,
   "metadata": {},
   "outputs": [],
   "source": [
    "def sum_array(array):\n",
    "  sum = 0\n",
    "  for value in array:\n",
    "    sum += value\n",
    "  return sum"
   ]
  },
  {
   "cell_type": "code",
   "execution_count": 11,
   "metadata": {},
   "outputs": [
    {
     "name": "stdout",
     "output_type": "stream",
     "text": [
      "31\n",
      "31\n"
     ]
    }
   ],
   "source": [
    "print(sum_array(x))\n",
    "print(sum(x))"
   ]
  },
  {
   "cell_type": "markdown",
   "metadata": {},
   "source": [
    "**Ejercicio #3**\n",
    "\n",
    "3) Crea un array de números de un tamaño pasado por teclado, el array contendrá números aleatorios primos entre los números deseados, por último nos indica cual es el mayor de todos."
   ]
  },
  {
   "cell_type": "code",
   "execution_count": 12,
   "metadata": {},
   "outputs": [],
   "source": [
    "# evaluar un num es primo\n",
    "\n",
    "# generar numero aleatorio primo\n",
    "\n",
    "# generar el array\n",
    "\n",
    "# identificar el mayor"
   ]
  },
  {
   "cell_type": "code",
   "execution_count": 13,
   "metadata": {},
   "outputs": [],
   "source": [
    "# Funcion evalua si un numero es primo\n",
    "\n",
    "def check_prime(num):\n",
    "  if num > 1:\n",
    "    # check for factors\n",
    "    divisores = 0\n",
    "    for i in range(2,num):\n",
    "      if (num % i) == 0:\n",
    "        divisores =+ 1\n",
    "\n",
    "    if divisores > 0:\n",
    "      return False\n",
    "    return True\n",
    "\n",
    "  else:\n",
    "    return False"
   ]
  },
  {
   "cell_type": "code",
   "execution_count": 14,
   "metadata": {},
   "outputs": [
    {
     "data": {
      "text/plain": [
       "True"
      ]
     },
     "execution_count": 14,
     "metadata": {},
     "output_type": "execute_result"
    }
   ],
   "source": [
    "check_prime(11)"
   ]
  },
  {
   "cell_type": "code",
   "execution_count": 15,
   "metadata": {},
   "outputs": [],
   "source": [
    "# Funcion genera un numero aleatorio primo\n",
    "\n",
    "\n",
    "def generate_prime():\n",
    "  is_prime = False\n",
    "  while is_prime == False:\n",
    "    num = random.randint(0, 100)\n",
    "    is_prime = check_prime(num)\n",
    "    if is_prime == True:\n",
    "      return num"
   ]
  },
  {
   "cell_type": "code",
   "execution_count": 16,
   "metadata": {},
   "outputs": [
    {
     "data": {
      "text/plain": [
       "3"
      ]
     },
     "execution_count": 16,
     "metadata": {},
     "output_type": "execute_result"
    }
   ],
   "source": [
    "generate_prime()"
   ]
  },
  {
   "cell_type": "code",
   "execution_count": 17,
   "metadata": {},
   "outputs": [
    {
     "name": "stdout",
     "output_type": "stream",
     "text": [
      "Ingrese la longitud del array 10\n"
     ]
    }
   ],
   "source": [
    "lenght_array = int(input(\"Ingrese la longitud del array \"))"
   ]
  },
  {
   "cell_type": "code",
   "execution_count": 18,
   "metadata": {},
   "outputs": [],
   "source": [
    "# Funcion generar array \n",
    "\n",
    "def generate_prime_array(lenght_array):\n",
    "  prime_array = []\n",
    "  for i in range(lenght_array):\n",
    "    value_prime = generate_prime()\n",
    "    prime_array.append(value_prime)\n",
    "  return prime_array"
   ]
  },
  {
   "cell_type": "code",
   "execution_count": 19,
   "metadata": {},
   "outputs": [
    {
     "data": {
      "text/plain": [
       "[19, 83, 17, 43, 5, 17, 67, 73, 29, 37]"
      ]
     },
     "execution_count": 19,
     "metadata": {},
     "output_type": "execute_result"
    }
   ],
   "source": [
    "generate_prime_array(lenght_array)"
   ]
  },
  {
   "cell_type": "markdown",
   "metadata": {},
   "source": [
    "**Ejercicio 4**\n",
    "\n",
    "4) Crea un array de números de 100 posiciones, que contendrá los números del 1 al 100. Obtén la suma de todos ellos y la media."
   ]
  },
  {
   "cell_type": "code",
   "execution_count": 20,
   "metadata": {},
   "outputs": [],
   "source": [
    "# Funcion generar array 1 al 100\n",
    "\n",
    "def generate_array_tohundred():\n",
    "  tohundred_array = []\n",
    "  for i in range(1,101):\n",
    "    tohundred_array.append(i)\n",
    "  return tohundred_array"
   ]
  },
  {
   "cell_type": "code",
   "execution_count": 21,
   "metadata": {},
   "outputs": [
    {
     "name": "stdout",
     "output_type": "stream",
     "text": [
      "5050\n",
      "50.5\n"
     ]
    }
   ],
   "source": [
    "b = generate_array_tohundred()\n",
    "print(sum(b))\n",
    "print(np.mean(b))"
   ]
  },
  {
   "cell_type": "markdown",
   "metadata": {},
   "source": [
    "**Ejercicio #5**\n",
    "\n",
    "5) Crea un array de números de un tamaño pasado por teclado, el array contendrá números aleatorios entre 1 y 300 y mostrar aquellos números que acaben en un dígito que nosotros le indiquemos por teclado, estos deben guardarse en un nuevo array."
   ]
  },
  {
   "cell_type": "code",
   "execution_count": 22,
   "metadata": {},
   "outputs": [],
   "source": [
    "# funcion generar array numeros aleatorios 1 a 300 \n",
    "\n",
    "def generate_array300(length):\n",
    "  array_300 = []\n",
    "  for i in range(length):\n",
    "    value = random.randint(0, 300)\n",
    "    array_300.append(value)\n",
    "  return array_300"
   ]
  },
  {
   "cell_type": "code",
   "execution_count": 23,
   "metadata": {},
   "outputs": [],
   "source": [
    "# funcion mostrar los numeros que terminan en un digito\n",
    "\n",
    "\n",
    "def last_digit(array, digit):\n",
    "  last_digit = []\n",
    "  for num in array:\n",
    "    last = num % 10\n",
    "    if last == digit:\n",
    "      last_digit.append(num)\n",
    "  return last_digit "
   ]
  },
  {
   "cell_type": "code",
   "execution_count": 24,
   "metadata": {},
   "outputs": [
    {
     "name": "stdout",
     "output_type": "stream",
     "text": [
      "Indique el tamano del array 8\n"
     ]
    }
   ],
   "source": [
    "custom_len = int(input(\"Indique el tamano del array \"))"
   ]
  },
  {
   "cell_type": "code",
   "execution_count": 25,
   "metadata": {},
   "outputs": [
    {
     "name": "stdout",
     "output_type": "stream",
     "text": [
      "Indique el digito 7\n"
     ]
    }
   ],
   "source": [
    "digit = int(input(\"Indique el digito \"))"
   ]
  },
  {
   "cell_type": "code",
   "execution_count": 26,
   "metadata": {},
   "outputs": [
    {
     "name": "stdout",
     "output_type": "stream",
     "text": [
      "[260, 283, 286, 231, 184, 137, 50, 51]\n"
     ]
    }
   ],
   "source": [
    "c = generate_array300(custom_len)\n",
    "print(c)"
   ]
  },
  {
   "cell_type": "code",
   "execution_count": 27,
   "metadata": {},
   "outputs": [
    {
     "data": {
      "text/plain": [
       "[137]"
      ]
     },
     "execution_count": 27,
     "metadata": {},
     "output_type": "execute_result"
    }
   ],
   "source": [
    "last_digit(c, digit)"
   ]
  },
  {
   "cell_type": "markdown",
   "metadata": {},
   "source": [
    "**Ejercicio #6**\n",
    "\n",
    "6) Funcion que retorne el numero mayor de un array"
   ]
  },
  {
   "cell_type": "code",
   "execution_count": 44,
   "metadata": {},
   "outputs": [],
   "source": [
    "# Get the largest number from a list\n",
    "\n",
    "def get_largest_number(array):\n",
    "    larg_num = array[0]\n",
    "    for i in array:\n",
    "        if i > larg_num:\n",
    "            larg_num = i \n",
    "    return larg_num"
   ]
  },
  {
   "cell_type": "code",
   "execution_count": 75,
   "metadata": {},
   "outputs": [],
   "source": [
    "d = [8, 23, 6]"
   ]
  },
  {
   "cell_type": "code",
   "execution_count": 76,
   "metadata": {},
   "outputs": [
    {
     "data": {
      "text/plain": [
       "23"
      ]
     },
     "execution_count": 76,
     "metadata": {},
     "output_type": "execute_result"
    }
   ],
   "source": [
    "get_largest_number(d)"
   ]
  },
  {
   "cell_type": "code",
   "execution_count": 47,
   "metadata": {},
   "outputs": [],
   "source": [
    "# Get the smallest number from a list\n",
    "\n",
    "def get_smallest_number(array):\n",
    "    small_num = array[0]\n",
    "    for i in array:\n",
    "        if i < small_num:\n",
    "            small_num = i \n",
    "    return small_num"
   ]
  },
  {
   "cell_type": "code",
   "execution_count": 48,
   "metadata": {},
   "outputs": [],
   "source": [
    "e = [5, 8, 23, 2]"
   ]
  },
  {
   "cell_type": "code",
   "execution_count": 49,
   "metadata": {},
   "outputs": [
    {
     "data": {
      "text/plain": [
       "2"
      ]
     },
     "execution_count": 49,
     "metadata": {},
     "output_type": "execute_result"
    }
   ],
   "source": [
    "get_smallest_number(e)"
   ]
  },
  {
   "cell_type": "markdown",
   "metadata": {},
   "source": [
    "**Ejercio #7**\n",
    "\n",
    "7) Funcion que elimine los duplicados de una lista."
   ]
  },
  {
   "cell_type": "code",
   "execution_count": 69,
   "metadata": {},
   "outputs": [],
   "source": [
    "# Remove duplicates from a list\n",
    "\n",
    "def remove_duplicate(array):\n",
    "    unique_num = []\n",
    "    for i in array:\n",
    "        if i not in unique_num:\n",
    "            unique_num.append(i)\n",
    "    return unique_num"
   ]
  },
  {
   "cell_type": "code",
   "execution_count": 70,
   "metadata": {},
   "outputs": [
    {
     "data": {
      "text/plain": [
       "[2, 3, 5, 6, 7, 8]"
      ]
     },
     "execution_count": 70,
     "metadata": {},
     "output_type": "execute_result"
    }
   ],
   "source": [
    "remove_duplicate(f)"
   ]
  },
  {
   "cell_type": "markdown",
   "metadata": {},
   "source": [
    "**Ejercicio #8**\n",
    "\n",
    "8) Funcion que retorne el segundo numero mas grande\n",
    "\n"
   ]
  },
  {
   "cell_type": "code",
   "execution_count": 71,
   "metadata": {},
   "outputs": [],
   "source": [
    "# Find the second largest number in a list\n",
    "\n",
    " \n",
    "def get_second_largest(array):\n",
    "    lenght = len(array)\n",
    "    for i in range(0, lenght-1):\n",
    "        for j in range(i+1, lenght):\n",
    "            if array[i] < array[j]:\n",
    "                temp = array[i]\n",
    "                array[i] = array[j]\n",
    "                array[j] = temp\n",
    "    return array[1]"
   ]
  },
  {
   "cell_type": "code",
   "execution_count": 72,
   "metadata": {},
   "outputs": [
    {
     "data": {
      "text/plain": [
       "7"
      ]
     },
     "execution_count": 72,
     "metadata": {},
     "output_type": "execute_result"
    }
   ],
   "source": [
    "get_second_largest(f)"
   ]
  },
  {
   "cell_type": "code",
   "execution_count": 74,
   "metadata": {
    "scrolled": true
   },
   "outputs": [
    {
     "data": {
      "text/plain": [
       "8"
      ]
     },
     "execution_count": 74,
     "metadata": {},
     "output_type": "execute_result"
    }
   ],
   "source": [
    "get_second_largest(d)"
   ]
  },
  {
   "cell_type": "code",
   "execution_count": 77,
   "metadata": {},
   "outputs": [],
   "source": [
    "g = [0, -8, 10, 19, 20, 100, 88]"
   ]
  },
  {
   "cell_type": "code",
   "execution_count": 78,
   "metadata": {},
   "outputs": [
    {
     "data": {
      "text/plain": [
       "88"
      ]
     },
     "execution_count": 78,
     "metadata": {},
     "output_type": "execute_result"
    }
   ],
   "source": [
    "get_second_largest(g)"
   ]
  },
  {
   "cell_type": "code",
   "execution_count": null,
   "metadata": {},
   "outputs": [],
   "source": []
  }
 ],
 "metadata": {
  "kernelspec": {
   "display_name": "Python 3",
   "language": "python",
   "name": "python3"
  },
  "language_info": {
   "codemirror_mode": {
    "name": "ipython",
    "version": 3
   },
   "file_extension": ".py",
   "mimetype": "text/x-python",
   "name": "python",
   "nbconvert_exporter": "python",
   "pygments_lexer": "ipython3",
   "version": "3.7.6"
  }
 },
 "nbformat": 4,
 "nbformat_minor": 4
}
