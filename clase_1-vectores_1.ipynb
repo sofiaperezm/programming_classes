{
 "cells": [
  {
   "cell_type": "markdown",
   "metadata": {},
   "source": [
    "**Objetivo:**\n",
    "\n",
    "*   Familiarizarse con vectores. \n",
    "*   Manejo de indices e iteraciones."
   ]
  },
  {
   "cell_type": "code",
   "execution_count": 1,
   "metadata": {},
   "outputs": [],
   "source": [
    "import random\n",
    "import numpy as np"
   ]
  },
  {
   "cell_type": "markdown",
   "metadata": {},
   "source": [
    "**Ejercicio #1**\n",
    "\n",
    "1) Crea un array de 10 posiciones de números con valores pedidos por teclado. Muestra por consola el indice y el valor al que corresponde. Haz dos métodos, uno para rellenar valores y otro para mostrar."
   ]
  },
  {
   "cell_type": "code",
   "execution_count": 2,
   "metadata": {},
   "outputs": [],
   "source": [
    "array = []"
   ]
  },
  {
   "cell_type": "code",
   "execution_count": 3,
   "metadata": {},
   "outputs": [],
   "source": [
    "# funcion rellenar elementos en un array\n",
    "\n",
    "def write_array(array):\n",
    "  for i in range(0, 10):\n",
    "    value = input(\"Ingresa 1 numeros por favor \")\n",
    "    array.append(value)"
   ]
  },
  {
   "cell_type": "code",
   "execution_count": 4,
   "metadata": {},
   "outputs": [
    {
     "name": "stdout",
     "output_type": "stream",
     "text": [
      "Ingresa 1 numeros por favor 2\n",
      "Ingresa 1 numeros por favor 3\n",
      "Ingresa 1 numeros por favor 4\n",
      "Ingresa 1 numeros por favor 5\n",
      "Ingresa 1 numeros por favor 6\n",
      "Ingresa 1 numeros por favor 7\n",
      "Ingresa 1 numeros por favor 8\n",
      "Ingresa 1 numeros por favor 9\n",
      "Ingresa 1 numeros por favor 9\n",
      "Ingresa 1 numeros por favor 9\n"
     ]
    }
   ],
   "source": [
    "write_array(array)"
   ]
  },
  {
   "cell_type": "code",
   "execution_count": 5,
   "metadata": {},
   "outputs": [],
   "source": [
    "# funcion printear elementos en un array\n",
    "\n",
    "def print_array(array):\n",
    "  for indice, valor in enumerate(array):\n",
    "    print(indice, valor)"
   ]
  },
  {
   "cell_type": "code",
   "execution_count": 6,
   "metadata": {},
   "outputs": [
    {
     "name": "stdout",
     "output_type": "stream",
     "text": [
      "0 2\n",
      "1 3\n",
      "2 4\n",
      "3 5\n",
      "4 6\n",
      "5 7\n",
      "6 8\n",
      "7 9\n",
      "8 9\n",
      "9 9\n"
     ]
    }
   ],
   "source": [
    "print_array(array)"
   ]
  },
  {
   "cell_type": "markdown",
   "metadata": {},
   "source": [
    "**Ejercicio #2**\n",
    "\n",
    "2) Crea un array de números donde le indicamos por teclado el tamaño del array, rellenaremos el array con números aleatorios entre 0 y 9, al final muestra por pantalla el valor de cada posición y la suma de todos los valores."
   ]
  },
  {
   "cell_type": "code",
   "execution_count": 7,
   "metadata": {},
   "outputs": [
    {
     "name": "stdout",
     "output_type": "stream",
     "text": [
      "Indique la longitud del array 10\n"
     ]
    }
   ],
   "source": [
    "lenght = int(input(\"Indique la longitud del array \"))"
   ]
  },
  {
   "cell_type": "code",
   "execution_count": 8,
   "metadata": {},
   "outputs": [],
   "source": [
    "def write_custom_array(lenght):\n",
    "  custom_array = []\n",
    "  for i in range(lenght):\n",
    "    value = random.randint(0,9)\n",
    "    custom_array.append(value)\n",
    "  return custom_array"
   ]
  },
  {
   "cell_type": "code",
   "execution_count": 9,
   "metadata": {},
   "outputs": [
    {
     "name": "stdout",
     "output_type": "stream",
     "text": [
      "[0, 5, 5, 6, 1, 4, 0, 1, 7, 5]\n"
     ]
    }
   ],
   "source": [
    "x = write_custom_array(lenght)\n",
    "print(x)"
   ]
  },
  {
   "cell_type": "code",
   "execution_count": 10,
   "metadata": {},
   "outputs": [],
   "source": [
    "def sum_array(array):\n",
    "  sum = 0\n",
    "  for value in array:\n",
    "    sum += value\n",
    "  return sum"
   ]
  },
  {
   "cell_type": "code",
   "execution_count": 11,
   "metadata": {},
   "outputs": [
    {
     "name": "stdout",
     "output_type": "stream",
     "text": [
      "34\n",
      "34\n"
     ]
    }
   ],
   "source": [
    "print(sum_array(x))\n",
    "print(sum(x))"
   ]
  },
  {
   "cell_type": "markdown",
   "metadata": {},
   "source": [
    "**Ejercicio #3**\n",
    "\n",
    "3) Crea un array de números de un tamaño pasado por teclado, el array contendrá números aleatorios primos entre los números deseados, por último nos indica cual es el mayor de todos."
   ]
  },
  {
   "cell_type": "code",
   "execution_count": 12,
   "metadata": {},
   "outputs": [],
   "source": [
    "# evaluar un num es primo\n",
    "\n",
    "# generar numero aleatorio primo\n",
    "\n",
    "# generar el array\n",
    "\n",
    "# identificar el mayor"
   ]
  },
  {
   "cell_type": "code",
   "execution_count": 13,
   "metadata": {},
   "outputs": [],
   "source": [
    "# Funcion evalua si un numero es primo\n",
    "\n",
    "def check_prime(num):\n",
    "  if num > 1:\n",
    "    # check for factors\n",
    "    divisores = 0\n",
    "    for i in range(2,num):\n",
    "      if (num % i) == 0:\n",
    "        divisores =+ 1\n",
    "\n",
    "    if divisores > 0:\n",
    "      return False\n",
    "    return True\n",
    "\n",
    "  else:\n",
    "    return False"
   ]
  },
  {
   "cell_type": "code",
   "execution_count": 14,
   "metadata": {},
   "outputs": [
    {
     "data": {
      "text/plain": [
       "True"
      ]
     },
     "execution_count": 14,
     "metadata": {},
     "output_type": "execute_result"
    }
   ],
   "source": [
    "check_prime(11)"
   ]
  },
  {
   "cell_type": "code",
   "execution_count": 15,
   "metadata": {},
   "outputs": [],
   "source": [
    "# Funcion genera un numero aleatorio primo\n",
    "\n",
    "\n",
    "def generate_prime():\n",
    "  is_prime = False\n",
    "  while is_prime == False:\n",
    "    num = random.randint(0, 100)\n",
    "    is_prime = check_prime(num)\n",
    "    if is_prime == True:\n",
    "      return num"
   ]
  },
  {
   "cell_type": "code",
   "execution_count": 16,
   "metadata": {},
   "outputs": [
    {
     "data": {
      "text/plain": [
       "17"
      ]
     },
     "execution_count": 16,
     "metadata": {},
     "output_type": "execute_result"
    }
   ],
   "source": [
    "generate_prime()"
   ]
  },
  {
   "cell_type": "code",
   "execution_count": 17,
   "metadata": {},
   "outputs": [
    {
     "name": "stdout",
     "output_type": "stream",
     "text": [
      "Ingrese la longitud del array 18\n"
     ]
    }
   ],
   "source": [
    "lenght_array = int(input(\"Ingrese la longitud del array \"))"
   ]
  },
  {
   "cell_type": "code",
   "execution_count": 18,
   "metadata": {},
   "outputs": [],
   "source": [
    "# Funcion generar array \n",
    "\n",
    "def generate_prime_array(lenght_array):\n",
    "  prime_array = []\n",
    "  for i in range(lenght_array):\n",
    "    value_prime = generate_prime()\n",
    "    prime_array.append(value_prime)\n",
    "  return prime_array"
   ]
  },
  {
   "cell_type": "code",
   "execution_count": 19,
   "metadata": {},
   "outputs": [
    {
     "data": {
      "text/plain": [
       "[41, 5, 11, 97, 43, 11, 7, 23, 17, 17, 11, 43, 19, 17, 23, 23, 3, 89]"
      ]
     },
     "execution_count": 19,
     "metadata": {},
     "output_type": "execute_result"
    }
   ],
   "source": [
    "generate_prime_array(lenght_array)"
   ]
  },
  {
   "cell_type": "markdown",
   "metadata": {},
   "source": [
    "**Ejercicio 4**\n",
    "\n",
    "4) Crea un array de números de 100 posiciones, que contendrá los números del 1 al 100. Obtén la suma de todos ellos y la media."
   ]
  },
  {
   "cell_type": "code",
   "execution_count": 20,
   "metadata": {},
   "outputs": [],
   "source": [
    "# Funcion generar array 1 al 100\n",
    "\n",
    "def generate_array_tohundred():\n",
    "  tohundred_array = []\n",
    "  for i in range(1,101):\n",
    "    tohundred_array.append(i)\n",
    "  return tohundred_array"
   ]
  },
  {
   "cell_type": "code",
   "execution_count": 22,
   "metadata": {},
   "outputs": [
    {
     "name": "stdout",
     "output_type": "stream",
     "text": [
      "5050\n",
      "50.5\n"
     ]
    }
   ],
   "source": [
    "b = generate_array_tohundred()\n",
    "print(sum(b))\n",
    "print(np.mean(b))"
   ]
  },
  {
   "cell_type": "markdown",
   "metadata": {},
   "source": [
    "**Ejercicio #5**\n",
    "\n",
    "5) Crea un array de números de un tamaño pasado por teclado, el array contendrá números aleatorios entre 1 y 300 y mostrar aquellos números que acaben en un dígito que nosotros le indiquemos por teclado, estos deben guardarse en un nuevo array."
   ]
  },
  {
   "cell_type": "code",
   "execution_count": 23,
   "metadata": {},
   "outputs": [],
   "source": [
    "# funcion generar array numeros aleatorios 1 a 300 \n",
    "\n",
    "def generate_array300(length):\n",
    "  array_300 = []\n",
    "  for i in range(length):\n",
    "    value = random.randint(0, 300)\n",
    "    array_300.append(value)\n",
    "  return array_300"
   ]
  },
  {
   "cell_type": "code",
   "execution_count": 24,
   "metadata": {},
   "outputs": [],
   "source": [
    "# funcion mostrar los numeros que terminan en un digito\n",
    "\n",
    "\n",
    "def last_digit(array, digit):\n",
    "  last_digit = []\n",
    "  for num in array:\n",
    "    last = num % 10\n",
    "    if last == digit:\n",
    "      last_digit.append(num)\n",
    "  return last_digit "
   ]
  },
  {
   "cell_type": "code",
   "execution_count": 25,
   "metadata": {},
   "outputs": [
    {
     "name": "stdout",
     "output_type": "stream",
     "text": [
      "Indique el tamano del array 10\n"
     ]
    }
   ],
   "source": [
    "custom_len = int(input(\"Indique el tamano del array \"))"
   ]
  },
  {
   "cell_type": "code",
   "execution_count": 26,
   "metadata": {},
   "outputs": [
    {
     "name": "stdout",
     "output_type": "stream",
     "text": [
      "Indique el digito 4\n"
     ]
    }
   ],
   "source": [
    "digit = int(input(\"Indique el digito \"))"
   ]
  },
  {
   "cell_type": "code",
   "execution_count": 27,
   "metadata": {},
   "outputs": [
    {
     "name": "stdout",
     "output_type": "stream",
     "text": [
      "[91, 171, 29, 52, 182, 14, 55, 162, 22, 55]\n"
     ]
    }
   ],
   "source": [
    "c = generate_array300(custom_len)\n",
    "print(c)"
   ]
  },
  {
   "cell_type": "code",
   "execution_count": 28,
   "metadata": {},
   "outputs": [
    {
     "data": {
      "text/plain": [
       "[14]"
      ]
     },
     "execution_count": 28,
     "metadata": {},
     "output_type": "execute_result"
    }
   ],
   "source": [
    "last_digit(c, digit)"
   ]
  }
 ],
 "metadata": {
  "kernelspec": {
   "display_name": "Python 3",
   "language": "python",
   "name": "python3"
  },
  "language_info": {
   "codemirror_mode": {
    "name": "ipython",
    "version": 3
   },
   "file_extension": ".py",
   "mimetype": "text/x-python",
   "name": "python",
   "nbconvert_exporter": "python",
   "pygments_lexer": "ipython3",
   "version": "3.7.6"
  }
 },
 "nbformat": 4,
 "nbformat_minor": 4
}
