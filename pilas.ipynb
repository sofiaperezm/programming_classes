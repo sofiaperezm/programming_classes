{
 "cells": [
  {
   "cell_type": "markdown",
   "metadata": {},
   "source": [
    "## Pila\n",
    "\n",
    "Una pila es un almacén de datos en el que se sigue una política específica a la hora de introducir y sacar\n",
    "los elementos.\n",
    "Una pila sigue una política LIFO (Last In First Out), es decir, el último en entrar es el primero en salir\n",
    "(imagine un bote de pastillas).\n",
    "\n"
   ]
  },
  {
   "cell_type": "markdown",
   "metadata": {},
   "source": [
    "### Ejercicio 1\n",
    "\n",
    "En este ejercicio se pide implementar una clase que modele el comportamiento de una pila de enteros,\n",
    "ofreciendo la siguiente funcionalidad:\n",
    "\n",
    "- La pila siempre se creará vacia.\n",
    "- Se podrán insertar elementos.\n",
    "- Se podrán sacar elementos.\n",
    "- Se podrá preguntar si la pila está vacia.\n",
    "- Se podrá reguntar si la pila está llena.\n",
    "- Se podrá saber el número de elementos actual de la pila.\n",
    "- Implemente un método imprimir que muestre los elementos de la pila."
   ]
  },
  {
   "cell_type": "code",
   "execution_count": 41,
   "metadata": {},
   "outputs": [],
   "source": [
    "class Pila():\n",
    "    \n",
    "    stack = []\n",
    "    \n",
    "    def __init__(self):\n",
    "        self.stack = []\n",
    "        \n",
    "    def push(self, num):\n",
    "        self.stack.append(num)\n",
    "        \n",
    "    def pop(self):\n",
    "        return self.stack.pop(-1)\n",
    "        \n",
    "    def print(self):\n",
    "        print(self.stack)\n",
    "        \n",
    "    def is_empty(self):\n",
    "        if len(self.stack) == 0:\n",
    "            return True\n",
    "        else:\n",
    "            return False\n",
    "        \n",
    "    def size(self):\n",
    "        return len(self.stack)\n",
    "    "
   ]
  },
  {
   "cell_type": "code",
   "execution_count": 64,
   "metadata": {},
   "outputs": [
    {
     "name": "stdout",
     "output_type": "stream",
     "text": [
      "[1, 2, 3, 4]\n"
     ]
    }
   ],
   "source": [
    "# Instanciar la clase\n",
    "P = Pila()\n",
    "x = Pila()\n",
    "\n",
    "# Agregar elementos a la Pila\n",
    "P.push(1)\n",
    "P.push(2)\n",
    "P.push(3)\n",
    "P.push(4)\n",
    "\n",
    "\n",
    "# Imprimir los elementos de la Pila\n",
    "P.print()"
   ]
  },
  {
   "cell_type": "code",
   "execution_count": 65,
   "metadata": {},
   "outputs": [
    {
     "name": "stdout",
     "output_type": "stream",
     "text": [
      "[1, 2, 3]\n"
     ]
    }
   ],
   "source": [
    "# Sacar elementos de la Pila (LIFO)\n",
    "P.pop()\n",
    "P.print()"
   ]
  },
  {
   "cell_type": "code",
   "execution_count": 69,
   "metadata": {},
   "outputs": [
    {
     "name": "stdout",
     "output_type": "stream",
     "text": [
      "La Pila P esta vacia? False\n",
      "La Pila x esta vacia? True\n",
      "Tamano de la Pila P: 3\n",
      "Tamano de la Pila x: 0\n"
     ]
    }
   ],
   "source": [
    "# Consultar si la pila esta vacia\n",
    "print(\"La Pila P esta vacia? {}\".format(P.is_empty()))\n",
    "print(\"La Pila x esta vacia? {}\".format(x.is_empty()))\n",
    "\n",
    "\n",
    "# Consultar el tamano de la pila\n",
    "print(\"Tamano de la Pila P: {}\".format(P.size()))\n",
    "print(\"Tamano de la Pila x: {}\".format(x.size()))\n"
   ]
  },
  {
   "cell_type": "markdown",
   "metadata": {},
   "source": [
    "### Ejercicio 2\n",
    "\n",
    "Programe una funcion, que utilizando un objeto de la clase Pila, y que reciba un array de enteros, almacene en la pila los enteros del array. Imprima la pila por pantalla para comprobar.\n"
   ]
  },
  {
   "cell_type": "code",
   "execution_count": 87,
   "metadata": {},
   "outputs": [],
   "source": [
    "def add_pila(array):\n",
    "    p = Pila()\n",
    "    for i in array:\n",
    "        p.push(i)\n",
    "    p.print()\n",
    "    return p"
   ]
  },
  {
   "cell_type": "code",
   "execution_count": 88,
   "metadata": {},
   "outputs": [
    {
     "name": "stdout",
     "output_type": "stream",
     "text": [
      "[1, 2, 3, 4, 5, 6]\n"
     ]
    }
   ],
   "source": [
    "pila_array = add_pila([1,2,3,4,5,6])"
   ]
  },
  {
   "cell_type": "markdown",
   "metadata": {},
   "source": [
    "### Ejercicio 3\n",
    "\n",
    "Continuando con el ejercicio anterior, una vez almacenados los elementos, sáquelos y almacénelos en otro array y recorra este array para imprimirlo por pantalla."
   ]
  },
  {
   "cell_type": "code",
   "execution_count": 91,
   "metadata": {},
   "outputs": [],
   "source": [
    "def del_pila(pila):\n",
    "    array = []\n",
    "    for i in range(0, pila.size()):\n",
    "        array.append(pila.pop())\n",
    "    print(array)"
   ]
  },
  {
   "cell_type": "code",
   "execution_count": 92,
   "metadata": {},
   "outputs": [
    {
     "name": "stdout",
     "output_type": "stream",
     "text": [
      "[6, 5, 4, 3, 2, 1]\n"
     ]
    }
   ],
   "source": [
    "del_pila(pila_array)"
   ]
  },
  {
   "cell_type": "markdown",
   "metadata": {},
   "source": []
  }
 ],
 "metadata": {
  "kernelspec": {
   "display_name": "Python 3",
   "language": "python",
   "name": "python3"
  },
  "language_info": {
   "codemirror_mode": {
    "name": "ipython",
    "version": 3
   },
   "file_extension": ".py",
   "mimetype": "text/x-python",
   "name": "python",
   "nbconvert_exporter": "python",
   "pygments_lexer": "ipython3",
   "version": "3.7.6"
  }
 },
 "nbformat": 4,
 "nbformat_minor": 4
}
