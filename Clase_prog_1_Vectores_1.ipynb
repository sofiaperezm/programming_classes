{
  "nbformat": 4,
  "nbformat_minor": 0,
  "metadata": {
    "colab": {
      "name": "Clase prog 1 - Vectores 1.ipynb",
      "provenance": []
    },
    "kernelspec": {
      "name": "python3",
      "display_name": "Python 3"
    }
  },
  "cells": [
    {
      "cell_type": "markdown",
      "metadata": {
        "id": "PzFQQ1pHwnEJ"
      },
      "source": [
        "**Objetivo:**\n",
        "\n",
        "*   Familiarizarse con vectores. \n",
        "*   Manejo de indices e iteraciones.\n"
      ]
    },
    {
      "cell_type": "code",
      "metadata": {
        "id": "BTOE9UDw7hMT"
      },
      "source": [
        "import random"
      ],
      "execution_count": 17,
      "outputs": []
    },
    {
      "cell_type": "markdown",
      "metadata": {
        "id": "ApPD_lNQxCUL"
      },
      "source": [
        "**Ejercicio # 1**\n",
        "\n",
        "1) Crea un array de 10 posiciones de números con valores pedidos por teclado. Muestra por consola el indice y el valor al que corresponde. Haz dos métodos, uno para rellenar valores y otro para mostrar."
      ]
    },
    {
      "cell_type": "code",
      "metadata": {
        "id": "KrG5YN_qzU7Q"
      },
      "source": [
        "array = []"
      ],
      "execution_count": 1,
      "outputs": []
    },
    {
      "cell_type": "code",
      "metadata": {
        "id": "cefto4De0kkk"
      },
      "source": [
        "# funcion rellenar elementos en un array\n",
        "\n",
        "def write_array(array):\n",
        "  for i in range(0, 10):\n",
        "    value = input(\"Ingresa 1 numeros por favor \")\n",
        "    array.append(value)\n",
        "\n",
        "  \n",
        "  "
      ],
      "execution_count": 2,
      "outputs": []
    },
    {
      "cell_type": "code",
      "metadata": {
        "colab": {
          "base_uri": "https://localhost:8080/"
        },
        "id": "FkGxNQRZ2vKY",
        "outputId": "04fb952f-9ae0-44db-87c3-7271f02072c3"
      },
      "source": [
        "write_array(array)"
      ],
      "execution_count": 3,
      "outputs": [
        {
          "output_type": "stream",
          "text": [
            "Ingresa 1 numeros por favor 1\n",
            "Ingresa 1 numeros por favor 1\n",
            "Ingresa 1 numeros por favor 1\n",
            "Ingresa 1 numeros por favor 1\n",
            "Ingresa 1 numeros por favor 1\n",
            "Ingresa 1 numeros por favor 1\n",
            "Ingresa 1 numeros por favor 1\n",
            "Ingresa 1 numeros por favor 1\n",
            "Ingresa 1 numeros por favor 1\n",
            "Ingresa 1 numeros por favor 1\n"
          ],
          "name": "stdout"
        }
      ]
    },
    {
      "cell_type": "code",
      "metadata": {
        "id": "A1IuG5lfwWEA"
      },
      "source": [
        "# funcion printear elementos en un array\n",
        "\n",
        "def print_array(array):\n",
        "  for indice, valor in enumerate(array):\n",
        "    print(indice, valor)\n"
      ],
      "execution_count": 4,
      "outputs": []
    },
    {
      "cell_type": "code",
      "metadata": {
        "colab": {
          "base_uri": "https://localhost:8080/"
        },
        "id": "Q2tF_3MGztkd",
        "outputId": "cdf2df7c-3b5a-4cb9-883d-8a593215e3d6"
      },
      "source": [
        "print_array(array)"
      ],
      "execution_count": 5,
      "outputs": [
        {
          "output_type": "stream",
          "text": [
            "0 1\n",
            "1 1\n",
            "2 1\n",
            "3 1\n",
            "4 1\n",
            "5 1\n",
            "6 1\n",
            "7 1\n",
            "8 1\n",
            "9 1\n"
          ],
          "name": "stdout"
        }
      ]
    },
    {
      "cell_type": "markdown",
      "metadata": {
        "id": "gFvuEF474cCk"
      },
      "source": [
        "**Ejercicio #2**\n",
        "\n",
        "2) Crea un array de números donde le indicamos por teclado el tamaño del array, rellenaremos el array con números aleatorios entre 0 y 9, al final muestra por pantalla el valor de cada posición y la suma de todos los valores."
      ]
    },
    {
      "cell_type": "code",
      "metadata": {
        "colab": {
          "base_uri": "https://localhost:8080/"
        },
        "id": "Yzs-12Gt4ZW8",
        "outputId": "fd70b281-0e9e-487b-bf51-015b37ab21d0"
      },
      "source": [
        "lenght = int(input(\"Indique la longitud del array \"))"
      ],
      "execution_count": 34,
      "outputs": [
        {
          "output_type": "stream",
          "text": [
            "Indique la longitud del array 11\n"
          ],
          "name": "stdout"
        }
      ]
    },
    {
      "cell_type": "code",
      "metadata": {
        "id": "CfjmIbLX5kjk"
      },
      "source": [
        "def write_custom_array(lenght):\n",
        "  custom_array = []\n",
        "  for i in range(lenght):\n",
        "    value = random.randint(0,9)\n",
        "    custom_array.append(value)\n",
        "  return custom_array\n"
      ],
      "execution_count": 35,
      "outputs": []
    },
    {
      "cell_type": "code",
      "metadata": {
        "id": "iBmsL8e-6ccv"
      },
      "source": [
        "x = write_custom_array(lenght)"
      ],
      "execution_count": 36,
      "outputs": []
    },
    {
      "cell_type": "code",
      "metadata": {
        "colab": {
          "base_uri": "https://localhost:8080/"
        },
        "id": "7i0BI64xAoyC",
        "outputId": "bcec99af-ed0e-4d16-9ce3-5536e1f95ebc"
      },
      "source": [
        "print(x)"
      ],
      "execution_count": 37,
      "outputs": [
        {
          "output_type": "stream",
          "text": [
            "[4, 9, 8, 6, 1, 3, 1, 3, 0, 8, 3]\n"
          ],
          "name": "stdout"
        }
      ]
    },
    {
      "cell_type": "code",
      "metadata": {
        "id": "JP3C2pjn7rlr"
      },
      "source": [
        "def sum_array(array):\n",
        "  sum = 0\n",
        "  for value in array:\n",
        "    sum += value\n",
        "  return sum"
      ],
      "execution_count": 38,
      "outputs": []
    },
    {
      "cell_type": "code",
      "metadata": {
        "colab": {
          "base_uri": "https://localhost:8080/"
        },
        "id": "cFKIynw-ANIL",
        "outputId": "2198034b-747b-48e3-8f7c-f86b5720f4a5"
      },
      "source": [
        "sum_array(x)"
      ],
      "execution_count": 39,
      "outputs": [
        {
          "output_type": "execute_result",
          "data": {
            "text/plain": [
              "46"
            ]
          },
          "metadata": {
            "tags": []
          },
          "execution_count": 39
        }
      ]
    },
    {
      "cell_type": "code",
      "metadata": {
        "colab": {
          "base_uri": "https://localhost:8080/"
        },
        "id": "MKy0z2waA0MJ",
        "outputId": "60d72c3b-f33a-4863-9a7b-c044b61ee667"
      },
      "source": [
        "sum(x)"
      ],
      "execution_count": 40,
      "outputs": [
        {
          "output_type": "execute_result",
          "data": {
            "text/plain": [
              "46"
            ]
          },
          "metadata": {
            "tags": []
          },
          "execution_count": 40
        }
      ]
    },
    {
      "cell_type": "markdown",
      "metadata": {
        "id": "OpswnoTGBWWa"
      },
      "source": [
        "**Ejercicio #3**\n",
        "\n",
        "3) Crea un array de números de un tamaño pasado por teclado, el array contendrá números aleatorios primos entre los números deseados, por último nos indica cual es el mayor de todos."
      ]
    },
    {
      "cell_type": "code",
      "metadata": {
        "id": "VOdtonP4BVqt"
      },
      "source": [
        "# evalua un num es primo\n",
        "\n",
        "# generar numero aleatorio primo\n",
        "\n",
        "# generar el array\n",
        "\n",
        "# identificar el mayor"
      ],
      "execution_count": null,
      "outputs": []
    },
    {
      "cell_type": "code",
      "metadata": {
        "id": "7ER5QW8RCnc-"
      },
      "source": [
        "# Funcion evalua si un numero es primo\n",
        "\n",
        "def check_prime(num):\n",
        "  if num > 1:\n",
        "    # check for factors\n",
        "    divisores = 0\n",
        "    for i in range(2,num):\n",
        "      if (num % i) == 0:\n",
        "        divisores =+ 1\n",
        "\n",
        "    if divisores > 0:\n",
        "      return False\n",
        "    return True\n",
        "\n",
        "  else:\n",
        "    return False"
      ],
      "execution_count": 73,
      "outputs": []
    },
    {
      "cell_type": "code",
      "metadata": {
        "colab": {
          "base_uri": "https://localhost:8080/"
        },
        "id": "W3hVNLwOGkP2",
        "outputId": "8c6eafdf-af2d-4dbd-ebfe-4bda780edcfc"
      },
      "source": [
        "check_prime(11)"
      ],
      "execution_count": 65,
      "outputs": [
        {
          "output_type": "stream",
          "text": [
            "0\n"
          ],
          "name": "stdout"
        },
        {
          "output_type": "execute_result",
          "data": {
            "text/plain": [
              "True"
            ]
          },
          "metadata": {
            "tags": []
          },
          "execution_count": 65
        }
      ]
    },
    {
      "cell_type": "code",
      "metadata": {
        "id": "0QS4lMOSHtsF"
      },
      "source": [
        "# Funcion genera un numero aleatorio primo\n",
        "\n",
        "\n",
        "def generate_prime():\n",
        "  is_prime = False\n",
        "  while is_prime == False:\n",
        "    num = random.randint(0, 100)\n",
        "    is_prime = check_prime(num)\n",
        "    if is_prime == True:\n",
        "      return num\n",
        "\n"
      ],
      "execution_count": 74,
      "outputs": []
    },
    {
      "cell_type": "code",
      "metadata": {
        "colab": {
          "base_uri": "https://localhost:8080/"
        },
        "id": "JpLlnaGfN8g0",
        "outputId": "99941892-40c4-4c90-ac78-da9eab45cd0a"
      },
      "source": [
        "generate_prime()"
      ],
      "execution_count": 79,
      "outputs": [
        {
          "output_type": "execute_result",
          "data": {
            "text/plain": [
              "73"
            ]
          },
          "metadata": {
            "tags": []
          },
          "execution_count": 79
        }
      ]
    },
    {
      "cell_type": "code",
      "metadata": {
        "colab": {
          "base_uri": "https://localhost:8080/"
        },
        "id": "1nY8Zhimcyxb",
        "outputId": "958157c6-b79f-46b8-f2c5-a4891c4e7a61"
      },
      "source": [
        "lenght_array = int(input(\"Ingrese la longitud del array \"))"
      ],
      "execution_count": 84,
      "outputs": [
        {
          "output_type": "stream",
          "text": [
            "Ingrese la longitud del array 10\n"
          ],
          "name": "stdout"
        }
      ]
    },
    {
      "cell_type": "code",
      "metadata": {
        "id": "6k_oHgPCcwA9"
      },
      "source": [
        "# Funcion generar array \n",
        "\n",
        "def generate_prime_array(lenght_array):\n",
        "  prime_array = []\n",
        "  for i in range(lenght_array):\n",
        "    value_prime = generate_prime()\n",
        "    prime_array.append(value_prime)\n",
        "  return prime_array\n"
      ],
      "execution_count": 82,
      "outputs": []
    },
    {
      "cell_type": "code",
      "metadata": {
        "colab": {
          "base_uri": "https://localhost:8080/"
        },
        "id": "mTUTbheZd6Mp",
        "outputId": "cc540f4c-e655-443a-b572-86f09d4416cc"
      },
      "source": [
        "generate_prime_array(lenght_array)"
      ],
      "execution_count": 85,
      "outputs": [
        {
          "output_type": "execute_result",
          "data": {
            "text/plain": [
              "[73, 59, 47, 89, 3, 23, 11, 47, 37, 89]"
            ]
          },
          "metadata": {
            "tags": []
          },
          "execution_count": 85
        }
      ]
    }
  ]
}